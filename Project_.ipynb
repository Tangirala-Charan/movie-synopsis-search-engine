{
 "cells": [
  {
   "cell_type": "code",
   "execution_count": 1,
   "metadata": {},
   "outputs": [],
   "source": [
    "import re\n",
    "from os import listdir\n",
    "from os.path import join, abspath\n",
    "from nltk.tokenize import word_tokenize\n",
    "from nltk.corpus import stopwords\n",
    "from nltk.stem import PorterStemmer\n",
    "from sklearn.feature_extraction.text import TfidfVectorizer\n",
    "from sklearn.metrics.pairwise import cosine_similarity"
   ]
  },
  {
   "cell_type": "code",
   "execution_count": 1,
   "metadata": {},
   "outputs": [],
   "source": [
    "data = open('synopsis.txt', 'r')\n",
    "\n",
    "i = 0\n",
    "\n",
    "for line in data.readlines():\n",
    "    if line[:2] == '_M':\n",
    "        i += 1\n",
    "        file = open('Dataset\\\\' + f'Movie{i}.txt', 'x')\n",
    "\n",
    "    elif line[:2] == '_S':\n",
    "        file.close()\n",
    "\n",
    "    else:\n",
    "        file.write(line)\n",
    "\n",
    "\n",
    "file.close()\n",
    "\n"
   ]
  },
  {
   "cell_type": "code",
   "execution_count": 5,
   "metadata": {},
   "outputs": [],
   "source": [
    "ps = PorterStemmer()\n",
    "nltk_stop_words = set(stopwords.words('english'))"
   ]
  },
  {
   "cell_type": "code",
   "execution_count": 6,
   "metadata": {},
   "outputs": [],
   "source": [
    "# build corpus: list of documents\n",
    "# stop words are ignored, words are stemmed using PorterStemmer\n",
    "corpus = []\n",
    "for i in range(1, 275):\n",
    "\tstrm = open(f'Dataset\\\\Movie{i}.txt', 'r', encoding=\"utf8\")\n",
    "\t# using nltk word tokenizer to split file into word list\n",
    "\twords = word_tokenize(strm.read())\n",
    "\t# using filter to remove stop words from word list\n",
    "\twords = filter(lambda w: w not in nltk_stop_words, words)\n",
    "\t# using map to stem words in word list\n",
    "\twords = map(lambda w: ps.stem(str(w)), words)\n",
    "\t# joining words into string and adding to corpus list\n",
    "\tcorpus.append(' '.join(words))"
   ]
  },
  {
   "cell_type": "code",
   "execution_count": 7,
   "metadata": {},
   "outputs": [
    {
     "name": "stderr",
     "output_type": "stream",
     "text": [
      "c:\\Users\\LEGION\\OneDrive\\Desktop\\CSE419L\\lib\\site-packages\\sklearn\\utils\\deprecation.py:87: FutureWarning: Function get_feature_names is deprecated; get_feature_names is deprecated in 1.0 and will be removed in 1.2. Please use get_feature_names_out instead.\n",
      "  warnings.warn(msg, category=FutureWarning)\n"
     ]
    }
   ],
   "source": [
    "# Using sklearn's tfidfvectorizer to construct tfidf matrix\n",
    "vectorizer = TfidfVectorizer()\n",
    "tfidf_matrix = vectorizer.fit_transform(corpus)\n",
    "terms = vectorizer.get_feature_names()\n",
    "#print '\\nPrinting tfidf values for each term:' \n",
    "#print '\\t\\t Doc1         Doc2        Doc3        Doc4'\n",
    "#for idx, row in enumerate(tfidf_matrix.toarray().transpose()):\n",
    "\t#print('{:<10}'.format(terms[idx]) + '\\t' + str(row))"
   ]
  },
  {
   "cell_type": "code",
   "execution_count": 8,
   "metadata": {},
   "outputs": [],
   "source": [
    "cos_sim_matrix = cosine_similarity(tfidf_matrix)"
   ]
  },
  {
   "cell_type": "code",
   "execution_count": 9,
   "metadata": {},
   "outputs": [
    {
     "name": "stdout",
     "output_type": "stream",
     "text": [
      "Collecting bm25\n",
      "  Downloading BM25-1.0.0.tar.gz (1.1 kB)\n",
      "  Preparing metadata (setup.py): started\n",
      "  Preparing metadata (setup.py): finished with status 'done'\n",
      "Installing collected packages: bm25\n",
      "  Running setup.py install for bm25: started\n",
      "  Running setup.py install for bm25: finished with status 'done'\n",
      "Successfully installed bm25-1.0.0\n",
      "Note: you may need to restart the kernel to use updated packages.\n"
     ]
    },
    {
     "name": "stderr",
     "output_type": "stream",
     "text": [
      "  DEPRECATION: bm25 is being installed using the legacy 'setup.py install' method, because it does not have a 'pyproject.toml' and the 'wheel' package is not installed. pip 23.1 will enforce this behaviour change. A possible replacement is to enable the '--use-pep517' option. Discussion can be found at https://github.com/pypa/pip/issues/8559\n"
     ]
    }
   ],
   "source": [
    "pip install bm25"
   ]
  },
  {
   "cell_type": "code",
   "execution_count": 10,
   "metadata": {},
   "outputs": [
    {
     "name": "stdout",
     "output_type": "stream",
     "text": [
      "Collecting rank_bm25\n",
      "  Downloading rank_bm25-0.2.2-py3-none-any.whl (8.6 kB)\n",
      "Requirement already satisfied: numpy in c:\\users\\legion\\onedrive\\desktop\\cse419l\\lib\\site-packages (from rank_bm25) (1.21.6)\n",
      "Installing collected packages: rank_bm25\n",
      "Successfully installed rank_bm25-0.2.2\n",
      "Note: you may need to restart the kernel to use updated packages.\n"
     ]
    }
   ],
   "source": [
    "pip install rank_bm25"
   ]
  },
  {
   "cell_type": "code",
   "execution_count": 11,
   "metadata": {},
   "outputs": [],
   "source": [
    "from rank_bm25 import BM25Okapi\n",
    "tokenized_corpus = [doc.split(\" \") for doc in corpus]\n",
    "bm25 = BM25Okapi(tokenized_corpus)"
   ]
  },
  {
   "cell_type": "code",
   "execution_count": 14,
   "metadata": {},
   "outputs": [],
   "source": [
    "query = \"comedy\"\n",
    "tokenized_query = query.split(\" \")\n",
    "doc_scores = bm25.get_scores(tokenized_query)"
   ]
  },
  {
   "cell_type": "code",
   "execution_count": 15,
   "metadata": {},
   "outputs": [
    {
     "data": {
      "text/plain": [
       "['comedi romanc add plot languag star izumi inamorik�suk suzukiriisa naka',\n",
       " \"adventur comedi drama mark twain 's 1851 stori two runaway friend , foster white boy escap black slave , sail raft mississippi river search freedom adventur . director michael curtiz toni randal eddi hodg\",\n",
       " \"biographi crime drama inspir actual event , group fame-obsess teenag use internet track celebr ' whereabout order rob home . director sofia coppola kati chang israel broussard\",\n",
       " 'adventur drama romanc young writer sal paradis life shaken arriv free-spirit dean moriarti girl , maryl . as travel across countri , encount mix peopl impact journey indel . director walter sall sam riley garrett hedlund',\n",
       " 'comedi fantasi horror a struggl horror writer visit small town book tour get caught murder mysteri involv young girl . that night dream , approach mysteri young ghost name v. director franci ford coppola val kilmer bruce dern',\n",
       " \"anim famili fantasi family-ori tv seri , produc mgm , guest host anim version `` wizard oz '' charact use wrap-around introduc variou family-ori film mgm film librari ( `` lili , '' `` the glass slipper , '' among other ) , usual shown two ... read star daw butlermel blancjun foray\",\n",
       " 'western texa ranger jake cutter arrest gambler paul regret , soon find team prison undercov effort defeat band renegad arm merchant thiev deal comanch known comanchero . director michael curtizjohn wayn ( uncredit ) john wayn stuart whitman',\n",
       " 'biographi drama histori in 13th centuri itali , franci bernardon , son assisi merchant , renounc promis armi career favor monast life start religi order , sanction pope . director michael curtiz bradford dillman dolor hart',\n",
       " 'comedi drama add plot languag director y�ji yamada kiyoshi atsumi chieko baish�',\n",
       " 'drama add plot languag star izumi ashikawajun hamamurachieko higashiyama']"
      ]
     },
     "execution_count": 15,
     "metadata": {},
     "output_type": "execute_result"
    }
   ],
   "source": [
    "bm25.get_top_n(tokenized_query, corpus, n=10)"
   ]
  }
 ],
 "metadata": {
  "kernelspec": {
   "display_name": "Python 3 (ipykernel)",
   "language": "python",
   "name": "python3"
  },
  "language_info": {
   "codemirror_mode": {
    "name": "ipython",
    "version": 3
   },
   "file_extension": ".py",
   "mimetype": "text/x-python",
   "name": "python",
   "nbconvert_exporter": "python",
   "pygments_lexer": "ipython3",
   "version": "3.9.7"
  },
  "vscode": {
   "interpreter": {
    "hash": "b217d7fbf62a7c9efc82b6185da4036d00ab77cf86b9c140ba698b8caee69ff2"
   }
  }
 },
 "nbformat": 4,
 "nbformat_minor": 4
}
